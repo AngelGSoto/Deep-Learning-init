{
 "cells": [
  {
   "cell_type": "markdown",
   "id": "a3a63e3c",
   "metadata": {},
   "source": [
    "# Transfer learning"
   ]
  },
  {
   "cell_type": "markdown",
   "id": "38f97d5c",
   "metadata": {},
   "source": [
    "The Inception model is actually quite capable of extracting useful information from an image. So we can instead train the Inception model using another data-set. But it takes several weeks using a very powerful and expensive computer to fully train the Inception model on a new data-set.\n",
    "\n",
    "We can instead re-use the pre-trained Inception model and merely replace the layer that does the final classification. This is called Transfer Learning."
   ]
  },
  {
   "cell_type": "code",
   "execution_count": 5,
   "id": "251a072d",
   "metadata": {},
   "outputs": [],
   "source": [
    "%matplotlib inline\n",
    "import matplotlib.pyplot as plt\n",
    "import tensorflow as tf\n",
    "import numpy as np\n",
    "import time\n",
    "from datetime import timedelta\n",
    "import os\n",
    "\n",
    "# Functions and classes for loading and using the Inception model.\n",
    "import inception\n",
    "\n",
    "# We use Pretty Tensor to define the new classifier.\n",
    "#import prettytensor as pt"
   ]
  },
  {
   "cell_type": "markdown",
   "id": "559068c2",
   "metadata": {},
   "source": [
    "This was developed using Python 3.5.2 (Anaconda) and TensorFlow version:"
   ]
  },
  {
   "cell_type": "code",
   "execution_count": 6,
   "id": "ce3c2879",
   "metadata": {},
   "outputs": [
    {
     "data": {
      "text/plain": [
       "'2.11.0'"
      ]
     },
     "execution_count": 6,
     "metadata": {},
     "output_type": "execute_result"
    }
   ],
   "source": [
    "tf.__version__"
   ]
  },
  {
   "cell_type": "markdown",
   "id": "b741ead3",
   "metadata": {},
   "source": [
    "# Load Data for CIFAR-10"
   ]
  },
  {
   "cell_type": "code",
   "execution_count": 8,
   "id": "d30fb0c9",
   "metadata": {},
   "outputs": [],
   "source": [
    "import cifar10"
   ]
  },
  {
   "cell_type": "markdown",
   "id": "a3697382",
   "metadata": {},
   "source": [
    "The data dimensions have already been defined in the cifar10 module, so we just need to import the ones we need."
   ]
  },
  {
   "cell_type": "code",
   "execution_count": 9,
   "id": "0d3cd41b",
   "metadata": {},
   "outputs": [
    {
     "ename": "ImportError",
     "evalue": "cannot import name 'num_classes' from 'cifar10' (/home/luisangel/luis-env/lib/python3.9/site-packages/cifar10/__init__.py)",
     "output_type": "error",
     "traceback": [
      "\u001b[0;31m---------------------------------------------------------------------------\u001b[0m",
      "\u001b[0;31mImportError\u001b[0m                               Traceback (most recent call last)",
      "Cell \u001b[0;32mIn [9], line 1\u001b[0m\n\u001b[0;32m----> 1\u001b[0m \u001b[38;5;28;01mfrom\u001b[39;00m \u001b[38;5;21;01mcifar10\u001b[39;00m \u001b[38;5;28;01mimport\u001b[39;00m num_classes\n",
      "\u001b[0;31mImportError\u001b[0m: cannot import name 'num_classes' from 'cifar10' (/home/luisangel/luis-env/lib/python3.9/site-packages/cifar10/__init__.py)"
     ]
    }
   ],
   "source": [
    "from cifar10 import num_classes"
   ]
  },
  {
   "cell_type": "code",
   "execution_count": null,
   "id": "4fca6a91",
   "metadata": {},
   "outputs": [],
   "source": []
  }
 ],
 "metadata": {
  "kernelspec": {
   "display_name": "Python 3 (ipykernel)",
   "language": "python",
   "name": "python3"
  },
  "language_info": {
   "codemirror_mode": {
    "name": "ipython",
    "version": 3
   },
   "file_extension": ".py",
   "mimetype": "text/x-python",
   "name": "python",
   "nbconvert_exporter": "python",
   "pygments_lexer": "ipython3",
   "version": "3.9.7"
  }
 },
 "nbformat": 4,
 "nbformat_minor": 5
}
